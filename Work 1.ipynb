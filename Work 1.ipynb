{
 "cells": [
  {
   "cell_type": "markdown",
   "id": "7645273e",
   "metadata": {},
   "source": [
    "# Тестовое задание"
   ]
  },
  {
   "cell_type": "markdown",
   "id": "ef2422ad",
   "metadata": {},
   "source": [
    "## 1. Импортируем библиотеки"
   ]
  },
  {
   "cell_type": "code",
   "execution_count": 1,
   "id": "041c91c8",
   "metadata": {},
   "outputs": [],
   "source": [
    "import pandas as pd\n",
    "import numpy as np\n",
    "from scipy import stats\n",
    "\n",
    "import seaborn as sns\n",
    "import matplotlib.pyplot as plt\n",
    "\n",
    "from sklearn.model_selection import train_test_split\n",
    "from sklearn.linear_model import LogisticRegression\n",
    "from sklearn.neighbors import KNeighborsClassifier\n",
    "from sklearn.tree import DecisionTreeClassifier\n",
    "from sklearn import tree\n",
    "from sklearn.metrics import precision_score, recall_score, auc, accuracy_score, roc_auc_score,\\\n",
    "classification_report, roc_curve\n",
    "from sklearn.ensemble import RandomForestClassifier\n",
    "from sklearn.model_selection import KFold\n",
    "from sklearn.model_selection import cross_val_score"
   ]
  },
  {
   "cell_type": "markdown",
   "id": "0e0ea2be",
   "metadata": {},
   "source": [
    "## 2. Загружаем данные\n",
    "### Легенда\n",
    "* Gender - Пол \n",
    "* Age - Возраст \n",
    "* Income - Доход \n",
    "* Flag - Целевая переменная "
   ]
  },
  {
   "cell_type": "code",
   "execution_count": 2,
   "id": "658a43c3",
   "metadata": {},
   "outputs": [],
   "source": [
    "df = pd.read_excel('Data-1.xlsx', skiprows=[1])"
   ]
  },
  {
   "cell_type": "code",
   "execution_count": 3,
   "id": "8e9d1793",
   "metadata": {},
   "outputs": [
    {
     "data": {
      "text/html": [
       "<div>\n",
       "<style scoped>\n",
       "    .dataframe tbody tr th:only-of-type {\n",
       "        vertical-align: middle;\n",
       "    }\n",
       "\n",
       "    .dataframe tbody tr th {\n",
       "        vertical-align: top;\n",
       "    }\n",
       "\n",
       "    .dataframe thead th {\n",
       "        text-align: right;\n",
       "    }\n",
       "</style>\n",
       "<table border=\"1\" class=\"dataframe\">\n",
       "  <thead>\n",
       "    <tr style=\"text-align: right;\">\n",
       "      <th></th>\n",
       "      <th>Unnamed: 0</th>\n",
       "      <th>Unnamed: 1</th>\n",
       "      <th>Unnamed: 2</th>\n",
       "      <th>Unnamed: 3</th>\n",
       "      <th>Unnamed: 4</th>\n",
       "      <th>Unnamed: 5</th>\n",
       "      <th>Unnamed: 6</th>\n",
       "      <th>Unnamed: 7</th>\n",
       "    </tr>\n",
       "  </thead>\n",
       "  <tbody>\n",
       "    <tr>\n",
       "      <th>0</th>\n",
       "      <td>NaN</td>\n",
       "      <td>Female</td>\n",
       "      <td>49</td>\n",
       "      <td>30000</td>\n",
       "      <td>0</td>\n",
       "      <td>NaN</td>\n",
       "      <td>NaN</td>\n",
       "      <td>NaN</td>\n",
       "    </tr>\n",
       "    <tr>\n",
       "      <th>1</th>\n",
       "      <td>NaN</td>\n",
       "      <td>Male</td>\n",
       "      <td>38</td>\n",
       "      <td>135000</td>\n",
       "      <td>0</td>\n",
       "      <td>NaN</td>\n",
       "      <td>NaN</td>\n",
       "      <td>NaN</td>\n",
       "    </tr>\n",
       "    <tr>\n",
       "      <th>2</th>\n",
       "      <td>NaN</td>\n",
       "      <td>Male</td>\n",
       "      <td>41</td>\n",
       "      <td>70000</td>\n",
       "      <td>0</td>\n",
       "      <td>NaN</td>\n",
       "      <td>NaN</td>\n",
       "      <td>NaN</td>\n",
       "    </tr>\n",
       "    <tr>\n",
       "      <th>3</th>\n",
       "      <td>NaN</td>\n",
       "      <td>Female</td>\n",
       "      <td>27</td>\n",
       "      <td>127000</td>\n",
       "      <td>0</td>\n",
       "      <td>NaN</td>\n",
       "      <td>NaN</td>\n",
       "      <td>NaN</td>\n",
       "    </tr>\n",
       "    <tr>\n",
       "      <th>4</th>\n",
       "      <td>NaN</td>\n",
       "      <td>Male</td>\n",
       "      <td>52</td>\n",
       "      <td>125000</td>\n",
       "      <td>0</td>\n",
       "      <td>NaN</td>\n",
       "      <td>NaN</td>\n",
       "      <td>NaN</td>\n",
       "    </tr>\n",
       "  </tbody>\n",
       "</table>\n",
       "</div>"
      ],
      "text/plain": [
       "   Unnamed: 0 Unnamed: 1  Unnamed: 2  Unnamed: 3  Unnamed: 4  Unnamed: 5  \\\n",
       "0         NaN     Female          49       30000           0         NaN   \n",
       "1         NaN       Male          38      135000           0         NaN   \n",
       "2         NaN       Male          41       70000           0         NaN   \n",
       "3         NaN     Female          27      127000           0         NaN   \n",
       "4         NaN       Male          52      125000           0         NaN   \n",
       "\n",
       "   Unnamed: 6  Unnamed: 7  \n",
       "0         NaN         NaN  \n",
       "1         NaN         NaN  \n",
       "2         NaN         NaN  \n",
       "3         NaN         NaN  \n",
       "4         NaN         NaN  "
      ]
     },
     "execution_count": 3,
     "metadata": {},
     "output_type": "execute_result"
    }
   ],
   "source": [
    "df[:5]"
   ]
  },
  {
   "cell_type": "markdown",
   "id": "b2af0e2e",
   "metadata": {},
   "source": [
    "## 3. Обрабатываем данные"
   ]
  },
  {
   "cell_type": "code",
   "execution_count": 4,
   "id": "b2970c04",
   "metadata": {},
   "outputs": [],
   "source": [
    "df.drop(\n",
    "    labels=['Unnamed: 0', 'Unnamed: 5', 'Unnamed: 6', 'Unnamed: 7'],\n",
    "    axis=1,\n",
    "    inplace=True,\n",
    ")"
   ]
  },
  {
   "cell_type": "code",
   "execution_count": 5,
   "id": "565e2d10",
   "metadata": {},
   "outputs": [],
   "source": [
    "df = df.rename(\n",
    "    columns={\n",
    "        'Unnamed: 1': 'Gender',\n",
    "        'Unnamed: 2': 'Age',\n",
    "        'Unnamed: 3': 'Income',\n",
    "        'Unnamed: 4': 'Flag'\n",
    "    })"
   ]
  },
  {
   "cell_type": "code",
   "execution_count": 6,
   "id": "156fd2bf",
   "metadata": {},
   "outputs": [],
   "source": [
    "df['Gender'].replace(['Female', 'Male'], [0, 1], inplace=True)"
   ]
  },
  {
   "cell_type": "code",
   "execution_count": 7,
   "id": "6d446e61",
   "metadata": {},
   "outputs": [],
   "source": [
    "#### one-hot encoding - приведем категориальный признак к числовому"
   ]
  },
  {
   "cell_type": "markdown",
   "id": "5e0be2c5",
   "metadata": {},
   "source": [
    "## 4. EDA"
   ]
  },
  {
   "cell_type": "markdown",
   "id": "ebc74c57",
   "metadata": {},
   "source": [
    "## Гипотезы\n",
    "1. Чем выше доход, тем выше вероятность флага\n",
    "2. Чем больше возраст, тем ниже вероятность выпадения флага"
   ]
  },
  {
   "cell_type": "code",
   "execution_count": 8,
   "id": "429b0a83",
   "metadata": {},
   "outputs": [
    {
     "name": "stdout",
     "output_type": "stream",
     "text": [
      "<class 'pandas.core.frame.DataFrame'>\n",
      "RangeIndex: 40000 entries, 0 to 39999\n",
      "Data columns (total 4 columns):\n",
      " #   Column  Non-Null Count  Dtype\n",
      "---  ------  --------------  -----\n",
      " 0   Gender  40000 non-null  int64\n",
      " 1   Age     40000 non-null  int64\n",
      " 2   Income  40000 non-null  int64\n",
      " 3   Flag    40000 non-null  int64\n",
      "dtypes: int64(4)\n",
      "memory usage: 1.2 MB\n"
     ]
    }
   ],
   "source": [
    "df.info()"
   ]
  },
  {
   "cell_type": "markdown",
   "id": "2dcabd47",
   "metadata": {},
   "source": [
    "#### Пропущенных значений - нет"
   ]
  },
  {
   "cell_type": "code",
   "execution_count": 9,
   "id": "61af3cfd",
   "metadata": {},
   "outputs": [
    {
     "data": {
      "text/plain": [
       "(40000, 4)"
      ]
     },
     "execution_count": 9,
     "metadata": {},
     "output_type": "execute_result"
    }
   ],
   "source": [
    "df.shape"
   ]
  },
  {
   "cell_type": "code",
   "execution_count": 10,
   "id": "6a78b5ff",
   "metadata": {},
   "outputs": [
    {
     "data": {
      "text/html": [
       "<div>\n",
       "<style scoped>\n",
       "    .dataframe tbody tr th:only-of-type {\n",
       "        vertical-align: middle;\n",
       "    }\n",
       "\n",
       "    .dataframe tbody tr th {\n",
       "        vertical-align: top;\n",
       "    }\n",
       "\n",
       "    .dataframe thead th {\n",
       "        text-align: right;\n",
       "    }\n",
       "</style>\n",
       "<table border=\"1\" class=\"dataframe\">\n",
       "  <thead>\n",
       "    <tr style=\"text-align: right;\">\n",
       "      <th></th>\n",
       "      <th>Gender</th>\n",
       "      <th>Age</th>\n",
       "      <th>Income</th>\n",
       "      <th>Flag</th>\n",
       "    </tr>\n",
       "  </thead>\n",
       "  <tbody>\n",
       "    <tr>\n",
       "      <th>0</th>\n",
       "      <td>0</td>\n",
       "      <td>49</td>\n",
       "      <td>30000</td>\n",
       "      <td>0</td>\n",
       "    </tr>\n",
       "    <tr>\n",
       "      <th>1</th>\n",
       "      <td>1</td>\n",
       "      <td>38</td>\n",
       "      <td>135000</td>\n",
       "      <td>0</td>\n",
       "    </tr>\n",
       "    <tr>\n",
       "      <th>2</th>\n",
       "      <td>1</td>\n",
       "      <td>41</td>\n",
       "      <td>70000</td>\n",
       "      <td>0</td>\n",
       "    </tr>\n",
       "    <tr>\n",
       "      <th>3</th>\n",
       "      <td>0</td>\n",
       "      <td>27</td>\n",
       "      <td>127000</td>\n",
       "      <td>0</td>\n",
       "    </tr>\n",
       "    <tr>\n",
       "      <th>4</th>\n",
       "      <td>1</td>\n",
       "      <td>52</td>\n",
       "      <td>125000</td>\n",
       "      <td>0</td>\n",
       "    </tr>\n",
       "  </tbody>\n",
       "</table>\n",
       "</div>"
      ],
      "text/plain": [
       "   Gender  Age  Income  Flag\n",
       "0       0   49   30000     0\n",
       "1       1   38  135000     0\n",
       "2       1   41   70000     0\n",
       "3       0   27  127000     0\n",
       "4       1   52  125000     0"
      ]
     },
     "execution_count": 10,
     "metadata": {},
     "output_type": "execute_result"
    }
   ],
   "source": [
    "df.head() "
   ]
  },
  {
   "cell_type": "code",
   "execution_count": 11,
   "id": "87643021",
   "metadata": {},
   "outputs": [
    {
     "data": {
      "text/html": [
       "<div>\n",
       "<style scoped>\n",
       "    .dataframe tbody tr th:only-of-type {\n",
       "        vertical-align: middle;\n",
       "    }\n",
       "\n",
       "    .dataframe tbody tr th {\n",
       "        vertical-align: top;\n",
       "    }\n",
       "\n",
       "    .dataframe thead th {\n",
       "        text-align: right;\n",
       "    }\n",
       "</style>\n",
       "<table border=\"1\" class=\"dataframe\">\n",
       "  <thead>\n",
       "    <tr style=\"text-align: right;\">\n",
       "      <th></th>\n",
       "      <th>Gender</th>\n",
       "      <th>Age</th>\n",
       "      <th>Income</th>\n",
       "      <th>Flag</th>\n",
       "    </tr>\n",
       "  </thead>\n",
       "  <tbody>\n",
       "    <tr>\n",
       "      <th>count</th>\n",
       "      <td>40000.000000</td>\n",
       "      <td>40000.000000</td>\n",
       "      <td>40000.000000</td>\n",
       "      <td>40000.000000</td>\n",
       "    </tr>\n",
       "    <tr>\n",
       "      <th>mean</th>\n",
       "      <td>0.506525</td>\n",
       "      <td>40.046050</td>\n",
       "      <td>109766.500000</td>\n",
       "      <td>0.324425</td>\n",
       "    </tr>\n",
       "    <tr>\n",
       "      <th>std</th>\n",
       "      <td>0.499964</td>\n",
       "      <td>8.933391</td>\n",
       "      <td>51968.813212</td>\n",
       "      <td>0.468165</td>\n",
       "    </tr>\n",
       "    <tr>\n",
       "      <th>min</th>\n",
       "      <td>0.000000</td>\n",
       "      <td>25.000000</td>\n",
       "      <td>20000.000000</td>\n",
       "      <td>0.000000</td>\n",
       "    </tr>\n",
       "    <tr>\n",
       "      <th>25%</th>\n",
       "      <td>0.000000</td>\n",
       "      <td>32.000000</td>\n",
       "      <td>65000.000000</td>\n",
       "      <td>0.000000</td>\n",
       "    </tr>\n",
       "    <tr>\n",
       "      <th>50%</th>\n",
       "      <td>1.000000</td>\n",
       "      <td>40.000000</td>\n",
       "      <td>110000.000000</td>\n",
       "      <td>0.000000</td>\n",
       "    </tr>\n",
       "    <tr>\n",
       "      <th>75%</th>\n",
       "      <td>1.000000</td>\n",
       "      <td>48.000000</td>\n",
       "      <td>154000.000000</td>\n",
       "      <td>1.000000</td>\n",
       "    </tr>\n",
       "    <tr>\n",
       "      <th>max</th>\n",
       "      <td>1.000000</td>\n",
       "      <td>55.000000</td>\n",
       "      <td>200000.000000</td>\n",
       "      <td>1.000000</td>\n",
       "    </tr>\n",
       "  </tbody>\n",
       "</table>\n",
       "</div>"
      ],
      "text/plain": [
       "             Gender           Age         Income          Flag\n",
       "count  40000.000000  40000.000000   40000.000000  40000.000000\n",
       "mean       0.506525     40.046050  109766.500000      0.324425\n",
       "std        0.499964      8.933391   51968.813212      0.468165\n",
       "min        0.000000     25.000000   20000.000000      0.000000\n",
       "25%        0.000000     32.000000   65000.000000      0.000000\n",
       "50%        1.000000     40.000000  110000.000000      0.000000\n",
       "75%        1.000000     48.000000  154000.000000      1.000000\n",
       "max        1.000000     55.000000  200000.000000      1.000000"
      ]
     },
     "execution_count": 11,
     "metadata": {},
     "output_type": "execute_result"
    }
   ],
   "source": [
    "df.describe()"
   ]
  },
  {
   "cell_type": "markdown",
   "id": "93ec3b65",
   "metadata": {},
   "source": [
    "#### Явных выбросов - не обнаружено"
   ]
  },
  {
   "cell_type": "markdown",
   "id": "47cf324d",
   "metadata": {},
   "source": [
    "## 4.1 Корреляция признаков"
   ]
  },
  {
   "cell_type": "code",
   "execution_count": 12,
   "id": "ecf85225",
   "metadata": {},
   "outputs": [
    {
     "data": {
      "text/plain": [
       "<AxesSubplot:>"
      ]
     },
     "execution_count": 12,
     "metadata": {},
     "output_type": "execute_result"
    },
    {
     "data": {
      "image/png": "[encoded data removed]",
      "text/plain": [
       "<Figure size 720x576 with 2 Axes>"
      ]
     },
     "metadata": {
      "needs_background": "light"
     },
     "output_type": "display_data"
    }
   ],
   "source": [
    "plt.figure(figsize=(10, 8))\n",
    "sns.heatmap(df.corr(method='spearman'), annot=True, fmt=\".1f\")"
   ]
  },
  {
   "cell_type": "markdown",
   "id": "531c7b77",
   "metadata": {},
   "source": [
    "#### Присутствует корреляция между возрастом, доходом и целевой переменной\n",
    "#### На основании этих признаков мы можем обучить модель"
   ]
  },
  {
   "cell_type": "markdown",
   "id": "e5240939",
   "metadata": {},
   "source": [
    " "
   ]
  },
  {
   "cell_type": "markdown",
   "id": "553606d7",
   "metadata": {},
   "source": [
    "## 4.2 Распределение признаков Income и Age "
   ]
  },
  {
   "cell_type": "code",
   "execution_count": 13,
   "id": "0b2f4bcf",
   "metadata": {},
   "outputs": [
    {
     "data": {
      "text/plain": [
       "<AxesSubplot:ylabel='Frequency'>"
      ]
     },
     "execution_count": 13,
     "metadata": {},
     "output_type": "execute_result"
    },
    {
     "data": {
      "image/png": "[encoded data removed]",
      "text/plain": [
       "<Figure size 432x288 with 1 Axes>"
      ]
     },
     "metadata": {
      "needs_background": "light"
     },
     "output_type": "display_data"
    }
   ],
   "source": [
    "df.Income.rolling(3).mean().plot(kind='hist')"
   ]
  },
  {
   "cell_type": "code",
   "execution_count": 14,
   "id": "dcfff3c0",
   "metadata": {},
   "outputs": [
    {
     "data": {
      "text/plain": [
       "<AxesSubplot:ylabel='Frequency'>"
      ]
     },
     "execution_count": 14,
     "metadata": {},
     "output_type": "execute_result"
    },
    {
     "data": {
      "image/png": "[encoded data removed]",
      "text/plain": [
       "<Figure size 432x288 with 1 Axes>"
      ]
     },
     "metadata": {
      "needs_background": "light"
     },
     "output_type": "display_data"
    }
   ],
   "source": [
    "df.Age.rolling(3).mean().plot(kind='hist')"
   ]
  },
  {
   "cell_type": "markdown",
   "id": "f07f7c49",
   "metadata": {},
   "source": [
    "### Признаки распределенны нормально"
   ]
  },
  {
   "cell_type": "markdown",
   "id": "2c32b7b6",
   "metadata": {},
   "source": [
    "## 4.3 Распределение целевой переменной Flag"
   ]
  },
  {
   "cell_type": "code",
   "execution_count": 15,
   "id": "9abb513a",
   "metadata": {},
   "outputs": [
    {
     "data": {
      "image/png": "[encoded data removed]",
      "text/plain": [
       "<Figure size 432x288 with 1 Axes>"
      ]
     },
     "metadata": {
      "needs_background": "light"
     },
     "output_type": "display_data"
    }
   ],
   "source": [
    "sns.barplot(y=df.Flag.value_counts(),x=df.Flag.unique())\n",
    "plt.title('Распределение целевой переменной flag');"
   ]
  },
  {
   "cell_type": "markdown",
   "id": "b696a84f",
   "metadata": {},
   "source": [
    "### В данном наборе данных присутствует дисбаланс классов"
   ]
  },
  {
   "cell_type": "markdown",
   "id": "460370c1",
   "metadata": {},
   "source": [
    "  "
   ]
  },
  {
   "cell_type": "markdown",
   "id": "1ead4a44",
   "metadata": {},
   "source": [
    "## 4.4 Признак Age"
   ]
  },
  {
   "cell_type": "markdown",
   "id": "3af25c2f",
   "metadata": {},
   "source": [
    "### Плотность распределения для  признака Age"
   ]
  },
  {
   "cell_type": "code",
   "execution_count": 16,
   "id": "bf490a37",
   "metadata": {},
   "outputs": [
    {
     "data": {
      "text/plain": [
       "(array([0.   , 0.005, 0.01 , 0.015, 0.02 , 0.025, 0.03 , 0.035, 0.04 ]),\n",
       " [Text(0, 0.0, '0.000'),\n",
       "  Text(0, 0.005, '0.005'),\n",
       "  Text(0, 0.01, '0.010'),\n",
       "  Text(0, 0.015, '0.015'),\n",
       "  Text(0, 0.02, '0.020'),\n",
       "  Text(0, 0.025, '0.025'),\n",
       "  Text(0, 0.03, '0.030'),\n",
       "  Text(0, 0.035, '0.035'),\n",
       "  Text(0, 0.04, '0.040')])"
      ]
     },
     "execution_count": 16,
     "metadata": {},
     "output_type": "execute_result"
    },
    {
     "data": {
      "image/png": "[encoded data removed]",
      "text/plain": [
       "<Figure size 424.5x360 with 1 Axes>"
      ]
     },
     "metadata": {
      "needs_background": "light"
     },
     "output_type": "display_data"
    }
   ],
   "source": [
    "sns.displot(\n",
    "    {\n",
    "        \"flag 0\": df[df.Flag == 0].Age,\n",
    "        \"flag 1\": df[df.Flag == 1].Age\n",
    "    },\n",
    "    kind=\"kde\",\n",
    "    common_norm=False \n",
    ")\n",
    "\n",
    "plt.title('Age', fontsize=20)\n",
    "plt.xlabel('Age', fontsize=14)\n",
    "plt.ylabel('Dentsity', fontsize=14)\n",
    "\n",
    "plt.xticks(fontsize=14)\n",
    "plt.yticks(fontsize=14)"
   ]
  },
  {
   "cell_type": "markdown",
   "id": "be5097ed",
   "metadata": {},
   "source": [
    "### Отношение среднего и медианы признака Age к целевой перменной"
   ]
  },
  {
   "cell_type": "code",
   "execution_count": 17,
   "id": "0e2ee69d",
   "metadata": {},
   "outputs": [
    {
     "data": {
      "text/plain": [
       "Flag\n",
       "0    41\n",
       "1    38\n",
       "Name: Age, dtype: int64"
      ]
     },
     "execution_count": 17,
     "metadata": {},
     "output_type": "execute_result"
    }
   ],
   "source": [
    "df.groupby('Flag')['Age'].median()"
   ]
  },
  {
   "cell_type": "code",
   "execution_count": 18,
   "id": "b3723993",
   "metadata": {},
   "outputs": [
    {
     "data": {
      "text/plain": [
       "Flag\n",
       "0    40.749473\n",
       "1    38.581259\n",
       "Name: Age, dtype: float64"
      ]
     },
     "execution_count": 18,
     "metadata": {},
     "output_type": "execute_result"
    }
   ],
   "source": [
    "df.groupby('Flag')['Age'].mean()"
   ]
  },
  {
   "cell_type": "markdown",
   "id": "54a84d9a",
   "metadata": {},
   "source": [
    "## 4.5 Признак Income"
   ]
  },
  {
   "cell_type": "markdown",
   "id": "e7d3312c",
   "metadata": {},
   "source": [
    "### Плотность распределения для  признака Income"
   ]
  },
  {
   "cell_type": "code",
   "execution_count": 19,
   "id": "7b65a924",
   "metadata": {},
   "outputs": [
    {
     "data": {
      "text/plain": [
       "(array([0.e+00, 1.e-06, 2.e-06, 3.e-06, 4.e-06, 5.e-06, 6.e-06, 7.e-06]),\n",
       " [Text(0, 0.0, '0'),\n",
       "  Text(0, 1e-06, '1'),\n",
       "  Text(0, 2e-06, '2'),\n",
       "  Text(0, 3e-06, '3'),\n",
       "  Text(0, 4e-06, '4'),\n",
       "  Text(0, 4.9999999999999996e-06, '5'),\n",
       "  Text(0, 6e-06, '6'),\n",
       "  Text(0, 7e-06, '7')])"
      ]
     },
     "execution_count": 19,
     "metadata": {},
     "output_type": "execute_result"
    },
    {
     "data": {
      "image/png": "[encoded data removed]",
      "text/plain": [
       "<Figure size 424.5x360 with 1 Axes>"
      ]
     },
     "metadata": {
      "needs_background": "light"
     },
     "output_type": "display_data"
    }
   ],
   "source": [
    "sns.displot(\n",
    "    {\n",
    "        \"flag 0\": df[df.Flag == 0].Income,\n",
    "        \"flag 1\": df[df.Flag == 1].Income\n",
    "    },\n",
    "    kind=\"kde\",\n",
    "    common_norm=False)\n",
    "\n",
    "plt.title('Income', fontsize=20)\n",
    "plt.xlabel('Income', fontsize=14)\n",
    "plt.ylabel('Dentsity', fontsize=14)\n",
    "\n",
    "plt.xticks(fontsize=14)\n",
    "plt.yticks(fontsize=14)"
   ]
  },
  {
   "cell_type": "markdown",
   "id": "cfed999f",
   "metadata": {},
   "source": [
    "### Отношение среднего и медианы признака Income к целевой перменной"
   ]
  },
  {
   "cell_type": "code",
   "execution_count": 20,
   "id": "2d5deaaa",
   "metadata": {},
   "outputs": [
    {
     "data": {
      "text/plain": [
       "Flag\n",
       "0    104000\n",
       "1    122000\n",
       "Name: Income, dtype: int64"
      ]
     },
     "execution_count": 20,
     "metadata": {},
     "output_type": "execute_result"
    }
   ],
   "source": [
    "df.groupby('Flag')['Income'].median()"
   ]
  },
  {
   "cell_type": "code",
   "execution_count": 21,
   "id": "4e5a6f7e",
   "metadata": {},
   "outputs": [
    {
     "data": {
      "text/plain": [
       "Flag\n",
       "0    105488.620804\n",
       "1    118674.655159\n",
       "Name: Income, dtype: float64"
      ]
     },
     "execution_count": 21,
     "metadata": {},
     "output_type": "execute_result"
    }
   ],
   "source": [
    "df.groupby('Flag')['Income'].mean()"
   ]
  },
  {
   "cell_type": "markdown",
   "id": "962e34e9",
   "metadata": {},
   "source": [
    "### Гипотезы 1 и 2 подтвердились"
   ]
  },
  {
   "cell_type": "markdown",
   "id": "f70e854a",
   "metadata": {},
   "source": [
    "## 5. Построение модели"
   ]
  },
  {
   "cell_type": "markdown",
   "id": "f171fa07",
   "metadata": {},
   "source": [
    "### Для решения задач бинарной классификации c малым количеством признаков уместно использовать модели на основе деревьев решений \n",
    "\n",
    "##### Поскольку у деревьев решений:\n",
    "\n",
    "##### * быстрый процесс обучения\n",
    "##### * генерация правил в областях, где трудно формализовать свои знания\n",
    "##### * извлечение правил на естественном языке\n",
    "##### * возможность визуализировать классификационную модель\n",
    "##### * высокая точность прогноза, сопоставимая с другими методами"
   ]
  },
  {
   "cell_type": "code",
   "execution_count": 22,
   "id": "77b8e569",
   "metadata": {},
   "outputs": [],
   "source": [
    "X = df.drop(columns=['Flag', 'Gender'], axis=1)\n",
    "y = df['Flag'].values"
   ]
  },
  {
   "cell_type": "code",
   "execution_count": 23,
   "id": "dc41474c",
   "metadata": {},
   "outputs": [],
   "source": [
    "X_train, X_test, y_train, y_test = train_test_split(X,\n",
    "                                                    y,\n",
    "                                                    test_size=0.25,\n",
    "                                                    stratify=y,\n",
    "                                                    shuffle=True,\n",
    "                                                    random_state=0)"
   ]
  },
  {
   "cell_type": "code",
   "execution_count": 24,
   "id": "86899936",
   "metadata": {},
   "outputs": [],
   "source": [
    "tree = DecisionTreeClassifier(max_depth=15,\n",
    "                              random_state=0,\n",
    "                              class_weight='balanced')\n",
    "tree.fit(X, y)\n",
    "y_pred = tree.predict(X_test)\n",
    "y_score = tree.predict_proba(X_test)[:,1]"
   ]
  },
  {
   "cell_type": "markdown",
   "id": "02cdae44",
   "metadata": {},
   "source": [
    "## 6. Метрики"
   ]
  },
  {
   "cell_type": "markdown",
   "id": "6ca7a84a",
   "metadata": {},
   "source": [
    "#### * ROC AUC - в условиях дисбаланса классов ROC AUC является хорошей метрикой\n",
    "#### * Precision - если нас больше интересуют ошибки I рода (важнее выдать кредит 'хорошему' заемщику, чем выдать 'плохому')\n",
    "#### * Recall - если нас больше интересуют ошибки II рода (важнее не выдать кредит 'плохому' заемщику, чем не выдать 'хорошему')\n"
   ]
  },
  {
   "cell_type": "markdown",
   "id": "66dc37d6",
   "metadata": {},
   "source": [
    "![jupyter](https://miro.medium.com/max/888/1*7J08ekAwupLBegeUI8muHA.png)"
   ]
  },
  {
   "cell_type": "code",
   "execution_count": 25,
   "id": "744c0422",
   "metadata": {},
   "outputs": [],
   "source": [
    "metrics = pd.DataFrame(index=['roc-auc', 'precision', 'recall'])\n",
    "\n",
    "metrics['Score'] = [\n",
    "    roc_auc_score(y_test, y_score),\n",
    "    precision_score(y_test, y_pred),\n",
    "    recall_score(y_test, y_pred)\n",
    "]"
   ]
  },
  {
   "cell_type": "code",
   "execution_count": 26,
   "id": "64f98436",
   "metadata": {},
   "outputs": [
    {
     "data": {
      "text/html": [
       "<div>\n",
       "<style scoped>\n",
       "    .dataframe tbody tr th:only-of-type {\n",
       "        vertical-align: middle;\n",
       "    }\n",
       "\n",
       "    .dataframe tbody tr th {\n",
       "        vertical-align: top;\n",
       "    }\n",
       "\n",
       "    .dataframe thead th {\n",
       "        text-align: right;\n",
       "    }\n",
       "</style>\n",
       "<table border=\"1\" class=\"dataframe\">\n",
       "  <thead>\n",
       "    <tr style=\"text-align: right;\">\n",
       "      <th></th>\n",
       "      <th>Score</th>\n",
       "    </tr>\n",
       "  </thead>\n",
       "  <tbody>\n",
       "    <tr>\n",
       "      <th>roc-auc</th>\n",
       "      <td>0.715083</td>\n",
       "    </tr>\n",
       "    <tr>\n",
       "      <th>precision</th>\n",
       "      <td>0.455736</td>\n",
       "    </tr>\n",
       "    <tr>\n",
       "      <th>recall</th>\n",
       "      <td>0.718866</td>\n",
       "    </tr>\n",
       "  </tbody>\n",
       "</table>\n",
       "</div>"
      ],
      "text/plain": [
       "              Score\n",
       "roc-auc    0.715083\n",
       "precision  0.455736\n",
       "recall     0.718866"
      ]
     },
     "execution_count": 26,
     "metadata": {},
     "output_type": "execute_result"
    }
   ],
   "source": [
    "metrics"
   ]
  },
  {
   "cell_type": "markdown",
   "id": "8b6ceb7d",
   "metadata": {},
   "source": [
    "## 6.1 Визуализируем ROC AUC"
   ]
  },
  {
   "cell_type": "code",
   "execution_count": 27,
   "id": "bb4223b2",
   "metadata": {},
   "outputs": [
    {
     "data": {
      "image/png": "[encoded data removed]",
      "text/plain": [
       "<Figure size 432x288 with 1 Axes>"
      ]
     },
     "metadata": {
      "needs_background": "light"
     },
     "output_type": "display_data"
    }
   ],
   "source": [
    "fpr, tpr, thresholds = roc_curve(y_test, y_score)\n",
    "\n",
    "roc_auc = auc(fpr, tpr)\n",
    "\n",
    "plt.plot(fpr, tpr, color='red', label='ROC curve (area = %0.3f)' % roc_auc)\n",
    "plt.plot([0, 1], [0, 1], color='blue', lw=2, linestyle='--')\n",
    "plt.xlim([0.0, 1.0])\n",
    "plt.ylim([0.0, 1.05])\n",
    "\n",
    "plt.xlabel('False Positive Rate')\n",
    "plt.ylabel('True Positive Rate')\n",
    "\n",
    "plt.title('ROC AUC = %0.3f' % roc_auc)\n",
    "plt.legend(loc=\"lower right\")\n",
    "plt.show()"
   ]
  },
  {
   "cell_type": "code",
   "execution_count": null,
   "id": "f23a40ca",
   "metadata": {},
   "outputs": [],
   "source": []
  }
 ],
 "metadata": {
  "kernelspec": {
   "display_name": "Python 3",
   "language": "python",
   "name": "python3"
  },
  "language_info": {
   "codemirror_mode": {
    "name": "ipython",
    "version": 3
   },
   "file_extension": ".py",
   "mimetype": "text/x-python",
   "name": "python",
   "nbconvert_exporter": "python",
   "pygments_lexer": "ipython3",
   "version": "3.8.8"
  }
 },
 "nbformat": 4,
 "nbformat_minor": 5
}
